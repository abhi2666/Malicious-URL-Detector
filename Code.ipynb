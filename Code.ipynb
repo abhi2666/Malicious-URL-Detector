{
  "cells": [
    {
      "cell_type": "markdown",
      "metadata": {
        "id": "wnmaxkqbOitA"
      },
      "source": [
        "### **Malicious Url Detector**"
      ]
    },
    {
      "cell_type": "markdown",
      "metadata": {
        "id": "ooYi0iIsOtIn"
      },
      "source": [
        "## Importing Libraries"
      ]
    },
    {
      "cell_type": "code",
      "execution_count": null,
      "metadata": {
        "id": "hbhnXv-aOrin"
      },
      "outputs": [],
      "source": [
        "import numpy as np\n",
        "import matplotlib.pyplot as plt\n",
        "import pandas as pd"
      ]
    },
    {
      "cell_type": "markdown",
      "metadata": {
        "id": "h41hG2_6PinS"
      },
      "source": [
        "# Creating Data Frame"
      ]
    },
    {
      "cell_type": "code",
      "execution_count": null,
      "metadata": {
        "id": "mZq3BirTPqUB"
      },
      "outputs": [],
      "source": [
        "dataframe = pd.read_csv(\"Malicious_Url.csv\")"
      ]
    },
    {
      "cell_type": "markdown",
      "metadata": {
        "id": "U__-vcErQkRa"
      },
      "source": [
        "# Cleansing of Data "
      ]
    },
    {
      "cell_type": "markdown",
      "metadata": {
        "id": "cratpRyBShea"
      },
      "source": [
        "***Importing Packages form cleansing***"
      ]
    },
    {
      "cell_type": "code",
      "execution_count": null,
      "metadata": {
        "colab": {
          "base_uri": "https://localhost:8080/"
        },
        "id": "EOFU0wm1QqZZ",
        "outputId": "398cd39d-62dd-499c-95b0-aaedcda4f7ad"
      },
      "outputs": [
        {
          "name": "stdout",
          "output_type": "stream",
          "text": [
            "[nltk_data] Downloading package stopwords to /root/nltk_data...\n",
            "[nltk_data]   Unzipping corpora/stopwords.zip.\n"
          ]
        }
      ],
      "source": [
        "import re \n",
        "import nltk\n",
        "nltk.download('stopwords')\n",
        "from nltk.corpus import stopwords\n",
        "from nltk.stem.porter import PorterStemmer"
      ]
    },
    {
      "cell_type": "markdown",
      "metadata": {
        "id": "Va_Hm0TnTkla"
      },
      "source": [
        "***Cleaning Data***"
      ]
    },
    {
      "cell_type": "code",
      "execution_count": null,
      "metadata": {
        "id": "vUepkYB7Tzop"
      },
      "outputs": [],
      "source": [
        "corpus = [] # where I will store the cleaned data\n",
        "\n",
        "for i in range(0, len(dataframe)):\n",
        "  review = re.sub('[^a-zA-Z]', ' ', dataframe['url'][i])\n",
        "  review = review.lower()\n",
        "  review = review.split()\n",
        "  #Stemming the data\n",
        "  stemmer = PorterStemmer()\n",
        "  review = [stemmer.stem(word) for word in review if not word in set(stopwords.words('english'))]\n",
        "  review = ' '.join(review)\n",
        "  corpus.append(review)"
      ]
    },
    {
      "cell_type": "code",
      "execution_count": null,
      "metadata": {
        "colab": {
          "base_uri": "https://localhost:8080/"
        },
        "id": "mDYUeuN-cz3u",
        "outputId": "180bf17e-0722-4dc3-bff5-a0e090f5d0c5"
      },
      "outputs": [],
      "source": [
        "print(corpus)"
      ]
    },
    {
      "cell_type": "markdown",
      "metadata": {
        "id": "ekfNPxj5cZi7"
      },
      "source": [
        "***Creating the matrix of features*** and ***Dependent Variables***"
      ]
    },
    {
      "cell_type": "code",
      "execution_count": null,
      "metadata": {
        "id": "CLz1jIGHcgF-"
      },
      "outputs": [],
      "source": [
        "from sklearn.feature_extraction.text import CountVectorizer\n",
        "cv = CountVectorizer()\n",
        "x = cv.fit_transform(corpus).toarray()"
      ]
    },
    {
      "cell_type": "code",
      "execution_count": null,
      "metadata": {
        "colab": {
          "base_uri": "https://localhost:8080/"
        },
        "id": "-xK9YtuJfVUv",
        "outputId": "5e89f684-9981-473a-f3fa-ca8b19937fac"
      },
      "outputs": [
        {
          "name": "stdout",
          "output_type": "stream",
          "text": [
            "matrix of features\n",
            " [[0 0 0 ... 0 0 0]\n",
            " [0 0 0 ... 0 0 0]\n",
            " [0 0 0 ... 0 0 0]\n",
            " ...\n",
            " [0 0 0 ... 0 0 0]\n",
            " [0 0 0 ... 0 0 0]\n",
            " [0 0 0 ... 0 0 0]]\n"
          ]
        }
      ],
      "source": [
        "print(\"matrix of features\\n\",x)"
      ]
    },
    {
      "cell_type": "markdown",
      "metadata": {
        "id": "kwNF2dsofaNn"
      },
      "source": [
        "# Encoding Categorical Data"
      ]
    },
    {
      "cell_type": "markdown",
      "metadata": {
        "id": "jwJU9xCsuG6O"
      },
      "source": [
        "***Encoding Dependent Variables***"
      ]
    },
    {
      "cell_type": "code",
      "execution_count": null,
      "metadata": {
        "id": "YcJaqEJWuN8V"
      },
      "outputs": [],
      "source": [
        "from sklearn.preprocessing import LabelEncoder\n",
        "le = LabelEncoder()\n",
        "y = dataframe.iloc[:, -1].values\n",
        "y = le.fit_transform(y)"
      ]
    },
    {
      "cell_type": "code",
      "execution_count": null,
      "metadata": {
        "colab": {
          "base_uri": "https://localhost:8080/"
        },
        "id": "I4U1lSBaunSs",
        "outputId": "df29977b-639c-469d-efc2-dc5d8efe3a9c"
      },
      "outputs": [
        {
          "name": "stdout",
          "output_type": "stream",
          "text": [
            "Features\n",
            " [1 0 0 1 1 0 0 0 1 0 0 1 0 1 1 1 0 0 0 1 0 1 0 0 0 0 0 0 1 0 0 0 0 0 0 1 0\n",
            " 0 1 1 1 0 0 0 0 0 1 0 0 0 1 1 0 0 0 0 0 0 0 0 1 1 0 0 0 1 1 0 1 0 0 0 1 0\n",
            " 0 0 0 0 0 0 1 0 0 0 0 0 1 1 0 0 1 0 0 0 1 0 1 0 0 1 0 1 0 0 1 1 1 0 0 0 0\n",
            " 1 0 0 0 1 0 1 0 0 0 0 0 0 1 0 1 0 0 0 0 0 1 0 0 0 0 1 0 1 0 0 0 0 0 0 1 1\n",
            " 0 0 0 0 0 0 0 0 1 0 1 0 0 0 1 1 0 0 1 1 1 1 0 0 0 0 0 0 0 0 0 0 0 0 0 0 0\n",
            " 0 0 1 0 1 0 0 0 1 0 0 0 0 1 1 0 0 0 0 0 0 0 0 0 0 0 0 1 1 0 1 0 0 0 0 0 0\n",
            " 0 0 0 0 0 0 0 0 0 0 1 0 1 0 0 0 1 0 1 0 0 1 0 0 1 0 0 0 0 1 0 1 0 1 1 0 0\n",
            " 0 1 0 0 1 0 0 0 0 0 0 0 0 0 0 0 1 0 0 0 1 0 0 1 0 1 1 1 1 0 1 0 0 0 0 0 0\n",
            " 0 1 1 0 0 1 1 0 0 0 1 1 0 0 0 0 0 0 0 0 0 0 0 0 0 0 0 0 0 1 0 0 0 1 0 1 0\n",
            " 0 0 0 1 1 0 1 0 0 0 1 0 0 0 0 0 1 0 0 0 1 1 1 0 0 0 0 0 0 0 1 0 1 0 0 0 1\n",
            " 0 1 0 0 0 0 0 0 0 1 1 0 0 0 1 0 1 0 1 0 0 0 0 1 0 0 0 0 0 0 0 0 1 1 1 0 1\n",
            " 1 1 0 0 0 0 0 0 0 0 0 0 0 0 0 1 0 0 1 0 1 0 0 1 0 0 0 0 0 0 0 0 0 1 0 0 0\n",
            " 0 1 0 0 0 1 1 0 1 0 0 0 0 0 0 0 0 0 1 0 0 0 0 0 1 1 0 1 1 1 0 0 0 0 1 0 0\n",
            " 0 0 0 0 1 0 0 0 0 0 0 0 1 0 0 0 1 0 0 0 1 1 0 0 0 0 0 0 1 0 0 0 0 0 0 0 0\n",
            " 0 0 0 0 0 0 1 1 0 0 0 1 1 0 1 1 0 0 0 0 0 0 0 0 0 0 1 1 0 0 1 1 1 0 0 0 0\n",
            " 0 0 0 0 0 0 1 1 0 0 0 0 1 0 0 0 1 1 0 0 0 1 1 0 0 0 0 0 0 1 1 0 0 1 1 0 0\n",
            " 0 0 0 0 0 0 0 1 0 0 1 0 0 0 0 0 0 0 0 0 0 0 1 0 0 0 0 0 0 0 1 0 1 1 0 1 0\n",
            " 0 0 0 0 1 0 0 0 0 0 0 0 1 0 0 0 0 1 0 1 0 0 0 0 0 1 1 1 0 0 0 1 1 0 1 0 1\n",
            " 0 0 1 1 0 0 0 0 1 1 0 0 0 1 1 0 1 0 0 0 0 0 1 0 0 0 1 0 0 0 0 1 0 1 0 0 0\n",
            " 1 0 0 0 1 1 0 0 0 0 0 1 1 0 1 0 0 0 1 1 0 0 1 0 0 1 0 1 0 0 0 1 0 0 0 1 0\n",
            " 1 0 1 0 1 0 0 0 0 0 0 0 0 0 0 0 0 0 0 0 0 0 0 0 0 0 1 0 1 0 0 0 0 0 1 0 0\n",
            " 0 1 0 1 0 1 0 0 0 0 0 0 0 1 1 0 1 1 1 0 0 0 0 0 0 0 0 0 0 0 0 0 1 0 1 0 0\n",
            " 0 0 0 0 0 1 0 1 0 0 0 0 0 0 0 1 1 0 0 1 0 0 1 0 0 0 0 1 1 0 0 0 0 0 0 0 0\n",
            " 0 0 0 0 1 0 1 0 0 1 1 0 0 0 0 0 0 0 0 0 0 0 1 1 1 1 0 0 0 0 1 1 0 1 1 1 1\n",
            " 0 0 0 1 1 0 0 1 0 0 0 0 0 0 0 0 0 0 0 1 0 0 0 0 0 0 1 1 0 0 0 1 1 1 0 0 1\n",
            " 0 0 0 0 0 0 0 0 0 0 0 1 0 0 1 0 1 0 0 0 0 0 0 1 0 0 1 0 0 0 0 0 0 1 1 0 0\n",
            " 0 1 0 0 0 0 0 1 0 0 0 1 1 1 0 0 1 0 0 0 0 0 0 0 0 1 1 1 0 1 0 0 0 0 0 1 0\n",
            " 0]\n"
          ]
        }
      ],
      "source": [
        "print(\"Features\\n\", y)\n",
        "# 1 - Malicious\n",
        "# 0 - Benign"
      ]
    },
    {
      "cell_type": "markdown",
      "metadata": {
        "id": "rkYhJcYTyR5w"
      },
      "source": [
        "# Splitting of Data for Training and Testing Purpose"
      ]
    },
    {
      "cell_type": "code",
      "execution_count": null,
      "metadata": {
        "id": "sI9MrdviybjG"
      },
      "outputs": [],
      "source": [
        "from sklearn.model_selection import train_test_split\n",
        "x_train, x_test, y_train, y_test = train_test_split(x, y, test_size = 0.2, random_state = 42)"
      ]
    },
    {
      "cell_type": "markdown",
      "metadata": {
        "id": "ULUwbKsjUO8U"
      },
      "source": [
        "# Training the Model"
      ]
    },
    {
      "cell_type": "markdown",
      "metadata": {
        "id": "NBzKc1y_bOrW"
      },
      "source": [
        "## ***1. Logistic Regression***"
      ]
    },
    {
      "cell_type": "code",
      "execution_count": null,
      "metadata": {
        "colab": {
          "base_uri": "https://localhost:8080/"
        },
        "id": "ygrBFqh8UURm",
        "outputId": "18dc6626-4ed8-4827-8fda-1297258cbe73"
      },
      "outputs": [
        {
          "data": {
            "text/plain": [
              "LogisticRegression()"
            ]
          },
          "execution_count": 8,
          "metadata": {},
          "output_type": "execute_result"
        }
      ],
      "source": [
        "from sklearn.linear_model import LogisticRegression\n",
        "classifier = LogisticRegression()\n",
        "classifier.fit(x_train, y_train)"
      ]
    },
    {
      "cell_type": "markdown",
      "metadata": {
        "id": "M5FtLAWyU9Kn"
      },
      "source": [
        "# Creating Confusion Matrix and finding the Accuracy"
      ]
    },
    {
      "cell_type": "code",
      "execution_count": null,
      "metadata": {
        "id": "nZ7AAK49WrZm"
      },
      "outputs": [],
      "source": [
        "y_pred = classifier.predict(x_test)"
      ]
    },
    {
      "cell_type": "code",
      "execution_count": null,
      "metadata": {
        "id": "L1f0OHLnVesN"
      },
      "outputs": [],
      "source": [
        "from sklearn.metrics import confusion_matrix, accuracy_score, f1_score\n",
        "cm = confusion_matrix(y_test, y_pred)\n",
        "accuracy = accuracy_score(y_test, y_pred)"
      ]
    },
    {
      "cell_type": "code",
      "execution_count": null,
      "metadata": {
        "colab": {
          "base_uri": "https://localhost:8080/"
        },
        "id": "ZGnwTX03XCFD",
        "outputId": "0a8dbffd-3917-4763-b48a-9f7653a172ba"
      },
      "outputs": [
        {
          "name": "stdout",
          "output_type": "stream",
          "text": [
            "Confusion Matrix\n",
            " [[139   2]\n",
            " [ 19  40]]\n",
            "Accuracy  0.895\n",
            "F1- score  0.7920792079207921\n"
          ]
        }
      ],
      "source": [
        "print(\"Confusion Matrix\\n\", cm)\n",
        "print(\"Accuracy \", accuracy)\n",
        "print(\"F1- score \", f1_score(y_test, y_pred))"
      ]
    },
    {
      "cell_type": "markdown",
      "metadata": {
        "id": "lNaVJBQnaUWC"
      },
      "source": [
        "# Testing Against Custom Inputs"
      ]
    },
    {
      "cell_type": "code",
      "execution_count": null,
      "metadata": {
        "id": "8wk3AqyGaYdY"
      },
      "outputs": [],
      "source": [
        "new = [\"google.com/search=jcharistech\",\n",
        "       \"google.com/search=faizanahmad\",\n",
        "       \"pakistanifacebookforever.com/getpassword.php/\",\n",
        "       \"www.radsport-voggel.de/wp-admin/includes/log.exe\",\n",
        "       \"ahrenhei.without-transfer.ru/nethost.exe \",\n",
        "       \"www.itidea.it/centroesteticosothys/img/_notes/gum.exe\"]"
      ]
    },
    {
      "cell_type": "code",
      "execution_count": null,
      "metadata": {
        "colab": {
          "base_uri": "https://localhost:8080/"
        },
        "id": "Ejeq6atTaqz4",
        "outputId": "2d5c9ba1-080d-49f4-e811-deac1c5edf69"
      },
      "outputs": [
        {
          "name": "stdout",
          "output_type": "stream",
          "text": [
            "[0 0 0 1 1 1]\n"
          ]
        }
      ],
      "source": [
        "new = cv.transform(new).toarray()\n",
        "custom_predict = classifier.predict(new)\n",
        "print(custom_predict)"
      ]
    }
  ],
  "metadata": {
    "colab": {
      "collapsed_sections": [],
      "name": "Copy of Welcome To Colaboratory",
      "provenance": []
    },
    "kernelspec": {
      "display_name": "Python 3",
      "name": "python3"
    }
  },
  "nbformat": 4,
  "nbformat_minor": 0
}
