{
  "cells": [
    {
      "cell_type": "markdown",
      "source": [
        "### **Malicious Url Detector**"
      ],
      "metadata": {
        "id": "wnmaxkqbOitA"
      }
    },
    {
      "cell_type": "markdown",
      "source": [
        "## Importing Libraries"
      ],
      "metadata": {
        "id": "ooYi0iIsOtIn"
      }
    },
    {
      "cell_type": "code",
      "source": [
        "import numpy as np\n",
        "import matplotlib.pyplot as plt\n",
        "import pandas as pd"
      ],
      "metadata": {
        "id": "hbhnXv-aOrin"
      },
      "execution_count": null,
      "outputs": []
    },
    {
      "cell_type": "markdown",
      "source": [
        "# Creating Data Frame"
      ],
      "metadata": {
        "id": "h41hG2_6PinS"
      }
    },
    {
      "cell_type": "code",
      "source": [
        "dataframe = pd.read_csv(\"Malicious_Url.csv\")"
      ],
      "metadata": {
        "id": "mZq3BirTPqUB"
      },
      "execution_count": null,
      "outputs": []
    },
    {
      "cell_type": "markdown",
      "source": [
        "# Cleansing of Data "
      ],
      "metadata": {
        "id": "U__-vcErQkRa"
      }
    },
    {
      "cell_type": "markdown",
      "source": [
        "***Importing Packages form cleansing***"
      ],
      "metadata": {
        "id": "cratpRyBShea"
      }
    },
    {
      "cell_type": "code",
      "source": [
        "import re \n",
        "import nltk\n",
        "nltk.download('stopwords')\n",
        "from nltk.corpus import stopwords\n",
        "from nltk.stem.porter import PorterStemmer"
      ],
      "metadata": {
        "id": "EOFU0wm1QqZZ",
        "outputId": "398cd39d-62dd-499c-95b0-aaedcda4f7ad",
        "colab": {
          "base_uri": "https://localhost:8080/"
        }
      },
      "execution_count": null,
      "outputs": [
        {
          "output_type": "stream",
          "name": "stdout",
          "text": [
            "[nltk_data] Downloading package stopwords to /root/nltk_data...\n",
            "[nltk_data]   Unzipping corpora/stopwords.zip.\n"
          ]
        }
      ]
    },
    {
      "cell_type": "markdown",
      "source": [
        "***Cleaning Data***"
      ],
      "metadata": {
        "id": "Va_Hm0TnTkla"
      }
    },
    {
      "cell_type": "code",
      "source": [
        "corpus = [] # where I will store the cleaned data\n",
        "\n",
        "for i in range(0, len(dataframe)):\n",
        "  review = re.sub('[^a-zA-Z]', ' ', dataframe['url'][i])\n",
        "  review = review.lower()\n",
        "  review = review.split()\n",
        "  #Stemming the data\n",
        "  stemmer = PorterStemmer()\n",
        "  review = [stemmer.stem(word) for word in review if not word in set(stopwords.words('english'))]\n",
        "  review = ' '.join(review)\n",
        "  corpus.append(review)"
      ],
      "metadata": {
        "id": "vUepkYB7Tzop"
      },
      "execution_count": null,
      "outputs": []
    },
    {
      "cell_type": "code",
      "source": [
        "print(corpus)"
      ],
      "metadata": {
        "id": "mDYUeuN-cz3u",
        "outputId": "180bf17e-0722-4dc3-bff5-a0e090f5d0c5",
        "colab": {
          "base_uri": "https://localhost:8080/"
        }
      },
      "execution_count": null,
      "outputs": [
        {
          "output_type": "stream",
          "name": "stdout",
          "text": [
            "['br icloud com br', 'mp raid com music krizz kaliko html', 'bopsecret org rexroth cr htm', 'www garag pirenn index php option com content view articl id vsig', 'adventur nicaragua net index php option com mailto tmpl compon link ahr cdovl fkdmvudhvyz uawnhcmfndweubmv l luzgv lnbocd vchrpb tx nvbnrlbnqmdmlldz hcnrpi xljmlkptq omfib v jmnhdglkptm omrlbw tyxj awnszxmmsxrlbwlkptu', 'buzzfil net show art il etaient loin de imagin que le hibou allait fair ceci quand il filmaient html', 'espn go com nba player id brandon rush', 'yourbittorr com q anthoni hamilton soulif', 'www pashminaonlin com pure pashmina', 'allmus com album crazi heat r', 'corporationwiki com ohio columbu frank benson p aspx', 'www ikenmijnkunst nl index php expos expos', 'myspac com video vid', 'www lebensmittel ueberwachung de index php aktuel', 'www szamaliciousmunkaero hu cimold html start', 'larcadelcarneval com catalogo palloncini', 'quickfact censu gov qfd map iowa map html', 'nugget ca articledisplay aspx archiv true e', 'uk linkedin com pub steve rubenstein', 'www vnic co khach hang html', 'basebal refer com player h harrig shtml', 'signin ebi de zukruygxctzmmqi civpro co za', 'com atoz peopl oakley patrick', 'nytim com style cut oh brazen raucou gloriou hibiscu html', 'escholarship org uc item xt c', 'songfact com detail php id', 'casamanana org educ blba', 'hollywoodlif com rihanna iheartradio music award dress pic', 'www marketingbyinternet com mo e df f ce c ee fcd ba', 'en wikipedia org wiki north dakota', 'soap sheknow com daysofourl news id day live cast ruta lee', 'perfectpeopl net celebr star gidget gein htm', 'media caltech edu press releas', 'wikiobit com obit tonyproudfoot', 'vanderbilt rival com viewcoach asp coach sport year', 'peluqueriadeautor com index php option com virtuemart page shop brows categori id itemid', 'movi yahoo com shop hv cf info id', 'cyndislist com us pa counti', 'www com app member sportopt php uid guest langx gb', 'www raci compon user reset html', 'doc googl com spreadsheet viewform formkey dgg z lcuhlsdjlltvnruw tfizsk mq', 'psycholog wikia com wiki phonem', 'info centriq com content fivereason', 'articl baltimoresun com sport jame koehler texa ranger terrel loweri', 'infinitysw com', 'strawberrycreekgarden com', 'earth sure com industri tech everlast impact resist dumpster enclosur', 'spoke com dir p desanti nick', 'wordsmith org word pignu html', 'interpark com displaycorn freemarket method itemcatelist free pc free free item disp', 'www newtec ac uk cours health social care level diploma health social care html', 'www kingsmillshotel com spring mother day', 'almanac logo com denomin', 'game wikia com wiki backbreak video game', 'ceu hu', 'registri weddingchannel com coupledir c r jare clough tajai ritchi htm', 'linkedin com pub georg cleveland', 'sunshinemil com', 'agoda com north america canada montreal qc attract hotel near mcgill univers centr continu educ html', 'ctv ca gener webspeci sponsorship scandal', 'www approvi com br ck htm', 'www shaborooz ir index php view articl catid id tmpl compon print layout default page option com content itemid', 'veoox com tag game html', 'chuckwalkertrio blogspot com', 'aerosolessho org', 'www juventudelirica com br index html', 'www myenrg com southwest texa', 'recipelink com msgbrd board dec html', 'www musimagen com lista socio php letra', 'idea repec org f pma html', 'peopleaz org firstnam fowlk', 'orensamtraktrip wordpress com', 'retajconsult com', 'alexa com whatshot q jame ar', 'jpopasia com group arashi discographi', 'kitsapsun com photo feb', 'local yahoo com info oakland intern airport oakland', 'tripadvisor com restaur review g review yacha yacha miyakojima okinawa prefectur kyushu okinawa html', 'articl eliteft com articl train articl five great exercis build domin defens lineman', 'broadwaystar com classic sourc www playbil com', 'www pn wuppert de link linkseit wwwkrebshilfed', 'forum networkinfrastructur info motorola wireless lan switch', 'youtub com watch v mwpopq spju', 'mccall idchamb org', 'chacha com question said quot say mean c mean say put beat', 'friar com sport baskbl archiv prov baskbl html', 'asociacionkaribu org index php servicio centro jambo', 'www martin busker de administr help en gb css factur c ebc e fa dab edb b b eae particuli php', 'pipl com directori name whissel', 'spokeo com john collet', 'www parafiapiaski pl index php option com user view remind', 'fanpag gr famili gineka ce b cf cf ce bf ce af ce b ce af ce bd ce b ce b ce bf ce b cf cf ce b ce b cf c cf ce b cf ce bf ce b ce ad ce bb ce bb ce b ce bd ce b cf ce b ce bd', 'faq org copyright handbook individu group cultur free', 'duckduckgo com c roman cathol cathedr canada', 'alexpay beget tech', 'worldoftank ru ru content guid payment instruct mobil payment rostelekom ural utel', 'www artedesignsa catalogo html page shop brows categori id', 'en wikipedia org wiki lloyd bacon', 'serverfault com question squid transpar certif error ssl error malici cert domain', 'www viamanau com br index php option com wrapper view wrapper itemid', 'ciajfk com harold html', 'www protect effect nl diensten telefoni', 'indyweek com arteri archiv come back escap film festiv begin friday', 'linkedin com pub charl gariepi', 'www gst ukrain com ua ukrain tour arboretum alexandria sofiyivka', 'facebook unitedcolleg net', 'www bimabn com configurazion supporto appl store contatta c appl id e b e bc ae f de e bb', 'eyeappealoptometri com', 'brophygen com', 'icehockey wikia com wiki dan blackburn', 'gurufocu com news warren buffett canada prem watsa fairfax financi ffh paul desmarai power corpor canada pow', 'www bg ricevimenti index php locat osteria del molo html fontstyl f smaller', 'stewstew com', 'livingharvest com product ice cream bar', 'icicibank com person bank offer offer detail page id offer reader digest magazin offer', 'info e bf e ab e ab b e bd e ba b e b b e bb', 'bleacherreport com articl doug harvey one best ever play game', 'www boeuf soufflenheim com de feed type rss', 'artfact net istituzion ms muzeum sztuki lodz vision general html', 'parsippanysoccerclub org', 'intern uiowa edu servic languag allnet resourc languag turkish asp', 'btscene eu verifi search torrent franco piersanti', 'signatur edit com', 'en wikipedia org wiki bless broken heart', 'www trenker bestattungen de index php option com content view articl id itemid', 'nation ca bold think nation public aspx', 'halkbankparaf para com', 'motthegioi vn gioi cuoi clip dai gia mac ca voi co ban banh html', 'metroact com paper metro idiotflesh html', 'twitter com home statu e c e e b ef bc e e e b e e f fero video net ft fwjfl fhpp lpxtzb e e aa e b e e b ef bc e e ad e e b e ero douga agesag', 'correio com br para sua empresa comunicacao certificado digitai ajuda interativa informaco sobr baixa do certificado', 'olx ro electronic si electrocasnic electrocasnic masini de cusut gtm start', 'www aba diagnost com espac prive reset html', 'msn foxsport com nhl player yann sauv', 'hallmark businessgreet com', 'musicstack com record cd toni toni tone', 'nudecelebsnow com tag victoria justu htm', 'www paoarapanui cl index php option com contact view contact id itemid', 'worldwrestlinginsan com publish ringofhonorl roh sinclair tv shtml', 'www designeremdoc com compon com contact ggdrive', 'slashdot org submiss facebook includ profil photo facial recognit databas', 'facebook com peopl yui takeshita', 'sportsposterwarehous com item grandprixclassicscol html', 'padmapp com search apart quebec montreal est', 'mrskin com christina ricci nude c html', 'lip servic com webzin tag post apocalypt fashion', 'www tiendagnulinux com ar calcomania en vinilo page shop brows categori id', 'chelurao ru index php option com content view articl id itemid lang ru', 'linkedin com pub dir elizabeth scarborough', 'cqgcr ca ang produc php', 'huffingtonpost com south carolina primari case n html', 'qz com quartz daili brief japanes militari verizon aol sporti branson sauci swede', 'select nytim com gst abstract html re f f b cba bd f c f', 'startrekcostum net', 'en wikipedia org wiki neil curti', 'music carowind com', 'info e e f b e b e b b e bb', 'newjersey craigslist org', 'roversland net', 'familypedia wikia com wiki joseph philipp roi de viller', 'mylust com video hentai slut big juici tit get fuck doggi style', 'acronymfind com john burrough high school burbank c ca jbh html', 'www familienbund org index php option com content view articl id stellungnahm de familienbund der katholiken zum referentenentwurf ein gesetz zur erweiterung der grosselternzeit catid stellungnahmen itemid', 'www vanoorschotkranen nl hoogwerk hoogwerk pdf', 'youtub com watch v k bsye', 'myspac com jking', 'www academiedumeubl ca index php option com seminar task cid sem midx sem jidx itemid', 'corporacionrossenditotour com', 'maslen sk index php option com contact view contact id iado obchodnu spolupracu catid dopytformular itemid', 'www clinicatecma es index php densiometria', 'movi msn com celebr celebr georg gabbi hay', 'idlebrain com news function engag brahmini html', 'vh com video metal show full episod carmin appic dave meniketti playlist jhtml', 'archiv rootsweb ancestri com th read gen obit', 'perezhilton com categori william shatner', 'fsnaindia com', 'actionjaxon wordpress com new macbook pro secretli gb capabl', 'en wikipedia org wiki kenji nojima', 'alaskajewelri com color stone tanzanit ring c html infobox', 'greenparti ca campaign', 'mic com articl mtv gave artist huge platform bring attent indigen right', 'randomhous com book tapestri spi stephen hunter', 'argentinawarez com musica mp grati ost boat rock soundtrack cd html', 'com atoz peopl gerrard steven', 'user nofeehost com aldenh html', 'facebook com opalhilldr', 'scottss com', 'drive googl com fanalav com ec b b e f ace b', 'manta com ic mt fkz ca resid sault au recollet', 'www perthshir caravan co uk stock list caravan elddi odyssey', 'forum exscn net archiv index php html pda', 'superpag com bp kansa citi ks kansa citi termin railway l htm', 'maxlapoint com p', 'rendeck com index php nl vacatur tabl index html resetfilt', 'ca ratemyteach com louis trichet', 'cardomain com ride pontiac gto', 'app facebook com ilik artist le respect', 'cbssport com nba player playerpag paul pierc', 'detkreimei fotografi de', 'listovka info xmap html', 'home comcast net jcage z navbox index htm', 'margaritawil com hotdog', 'pipl com directori name palla toni', 'newyork com archiv tni card', 'youtub com watch v emi ft pqh', 'law cornel edu wex joint ventur', 'pitchfork com review album broken bell', 'skyrock com video edjwodrhnzoxmw bug moi famil html top period recent', 'hollywood com movi biuti', 'facebook com page paul lynd halloween special', 'hot peopl info crossett ar dorothi moor eric newton html', 'onlineradio com listen cflo', 'info e f e bb e ba c e e b b e ad e b e b b e bb', 'www jnpiraq net arab index php option com content view articl id catid itemid', 'artistswithaid org artform music catalogu rileyl html', 'www versverwerktegroenten nl bruin bonen html', 'mylif com dominicbouchard', 'mmagearguid com ufc shirt silva vs sonnen', 'worldtraveltour org altern place choos montreal travel html', 'iptv org', 'elliscountydivorcelawy com elli counti post divorc modif htm', 'grantland com triangl mlb bet chicago cub houston astro oakland tampa bay ray', 'fanpix net galleri doug savant pictur htm', 'chacha com question time metro center mall close', 'marcospecialti com storeitem asp game chicago coin chicago coin red baron blue max', 'hdln com g zf kansa citi star obituari obituari kansa citi star kansa citi c mo', 'familytreemak genealog com user v e r jame r verrier gene html', 'therainmakersmessageboard yuku com', 'tumblr com tag sebastien lefebvr', 'ussocc com news soccer wire u soccer wire galaxi claim ml cup doubl ot win rev go rare doubl aspx', 'filmannex com movi olymp fenc men saber', 'allaboutjazz com php musician php id', 'info page webhostapp com', 'skirac com q node', 'myptccash com', 'ertx com movi mad mambo', 'classicbikepictur co uk c p sale yamaha c yfu wyfu sale html', 'thenextweb com dd squarespac begin version beta test gtm js gtm js', 'ecoledecoiffurecarolinelapris com format pose ongl html', 'mtlasm blogspot com', 'chinacxyy com piccodej asp lm x w h open n tj', 'medicinenet com heel spur citi htm', 'music yahoo com nothingfac', 'info e e ba b e e ad e b bc e b b e bb', 'espn go com colleg footbal team id kansa state wildcat', 'bleacherreport com articl mlb power rank compar everi mlb team classic rock band', 'citiprepaid salarysea tk', 'famoushookup com site relationship detail php name martin brodeur celebid relid', 'genealogybuff com ar clark webbb config pl nofram read', 'microlabsltd com', 'tripadvisor com showuserreview g r mulligan stratton mountain vermont html', 'www smc imag co uk imag index hvoda html', 'flickr com peopl sleepingelf', 'www nabu gaildorf de index php option com jevent task day listev year month day itemid', 'subscen com take woodstock subtitl aspx', 'kcc nichost ru index php option com content view articl id catid news itemid', 'www nubiafaria com v index php option com mailto tmpl compon link b f ca ab ae e fb af', 'thenextweb com insid unbabel integr mailchimp offer translat servic promot email gtm js gtm start', 'tab ultim guitar com audioslav audioslav album btab htm', 'sunjourn com section news', 'www elektro vozila si motocikli novic volta bcn citi je elektricni mestni supermoto iz spanij', 'ethicalsuperstor com product green black organ hot chocol drink ja tsid ccc cprd ccat groceri everyday e drink e chocol', 'lilliputreview blogspot com r h blyth waka haiku html', 'www musimagen com lista socio php pagina letra', 'basketbal wikia com wiki golden state warrior', 'ech cwru edu ech cgi articl pl id pg', 'filmaffin com es search php stype cast stext elliott gould', 'chicopeemasoniclodg org westov htm', 'filmcrit com featur american scienc fiction movi', 'geograph org geograph name v html', 'paperbackswap com sadi rose adventur hilda stahl book', 'basebal almanac com player player php p hengeda', 'biographi ca en showbio asp bioid', 'deborahfr white com stand html', 'spcmoray com', 'sexshop bg biz product page shop brows categori id', 'edu gov ca eng sift indexsec asp', 'benoitglaz com', 'judgepedia org index php alan gold', 'mueblesjulianjimenez es index php page shop brows categori id option com virtuemart itemid', 'sbnation com ncaa footbal player brandon smith', 'isearch com search php qloc showform name qname robin kelli refer', 'fischereiverein org bildergaleri categori faeng oktob', 'ratemyteach com amelia high school', 'www expatsalon ru index php categori html start', 'apoiojur com br index php ftabl fadministrativo f', 'www steffen lemm de contact berlin buero besuch berlin', 'djsipk nl foto album cafedeknyp detail html tmpl compon', 'carfloormatsforsal com door sill', 'www harley davidson dijon com compon adsmanag', 'facebook com page liberman broadcast sk info', 'thefreelibrari com cathol school quebec', 'cngzhz en ec com', 'atlasshrug typepad com atla shrug black musl html', 'rotoworld com player nhl player r', 'facebook com topic php uid topic', 'tomdegan blogspot com', 'www smartphon net br index php option com content view articl id itemid lang pt', 'www annamodlo com ua index html', 'codecanyon net item hide joomla hide sourc link full screen preview', 'cswisdom com', 'www aquamarinadivingtenerif com en site interest html', 'www lafavoritacb com index php option com content view articl id horarioinvierno catid articulo itemid', 'ibabuzz com outtak categori night owl crown citi rocker', 'youtub com watch v ueziuaqr lu', 'en wikipedia org wiki simonn monet chartrand', 'www sidecocarrelli x txt', 'www metalsul ind br site index php option com morfeoshow itemid', 'martindal com brett donald mcintosh lawyer htm', 'frillr com q taxonomi term', 'bankingblog celent com p', 'en wikipedia org wiki categori american religi leader', 'narrativemagazin com author saul bellow', 'benmeadowcroft com report corbato', 'spokeo com mike burrow', 'otomoto pl ciezarow ew hou rpsocimkj iulbofatbi b mlqoh lf b jock gzdoyrcit ilzhcz uopogct ax fntpf l', 'youtub com watch v fxwq qmyb', 'cifstat org', 'nchsband com', 'tvguid com celebr peter keleghan', 'arstechnica com appl news charli miller discov appl batteri hackhow secur research discov appl batteri hack ar', 'blog metmuseum org penandparch tag hour jeann devreux', 'divacaf net', 'archiv org stream lifeofmaryqueeno headuoft lifeofmaryqueeno headuoft djvu txt', 'buzzfil net articl animaux dirait une attaqu mai la realit en est tout autr html href inner websit', 'portal dddgame com doc rule cn game cn html amlumjaxnq', 'manta com c mmq coldwel banker heart america', 'superpag com bp milford oh cliff riley insur l htm', 'idea repec org e ppe html', 'www school kiev ua index php option com content view categori layout blog id itemid', 'flickr com photo cornforthimag', 'djkatrina ru sobytiya meropriyatiya klub prime otkryvaetsya posl remonta razdaet podarki html', 'nation citysearch com profil vacavil ca fenton creameri html', 'yourlust com video tight euro teen anna get properli fuck floor html', 'nytim com page book index html', 'legendsofhockey net legendsofhockey jsp searchplay jsp player', 'szg ru inform interest articl html', 'www sandroecicero com br index php option com content view articl id itemid vsig', 'homegain com local real estat nd argusvil html', 'info e ae e e e ba b e b e b b e bb', 'noticia uol com br album bbc obra de anel rodoviario de r bilho afetam rio e nascent em sp htm', 'theglobeandmail com news opinion editori common kid alright articl', 'bw edu athlet fb staff grabowski', 'appieid enabl com', 'fadsplymouth com', 'locatetv com tv ellen degener show episod guid', 'imdb com name nm', 'scotbord folk org uk label htm', 'visa ca gvav list jsp year curmonth', 'autopostoajax com br', 'en wikipedia org wiki parti one peter elka album', 'kienthuc net vn diem thi diem chuan dai hoc bach khoa ha noi nam html', 'pikabu ru tag bc b bd b bc b bb b b bc hot', 'www ekino neureut de index php option com content view articl id itemid', 'www rockabilli gruppi four star html', 'www rathgaelgym org squad mag', 'absoluteastronomi com topic legion merit', 'thaiairway com', 'famouspeopl com famou biographi lizzi stanton htm', 'triclopsband com', 'mp raid com music lo key html', 'amtrakcalifornia com index cfm rout san joaquin', 'martiniqu com', 'apoiojur com br index php fnoticia fnoticia html', 'extratorr cc torrent linux user develop critic fix issu c html', 'www graz u de produkt high level e mail secur html', 'dwaynemeisn com', 'linkedin com pub john barkley', 'flyershistori com cgi bin b player cgi berni parent', 'www richpictur co uk home viewpost', 'topix com ca montreal qc montreal nord', 'info e b bc e bf e b bd e f b e b b e bb', 'trssllc com', 'allgam com game php id', 'renerichardcollect com media html', 'securityfirstinternationalhold com', 'factbit com topic leyt', 'car stuff com pontiacgrandprixpart htm', 'usa peopl search com find steven schwartz co aspx', 'muhanovabeauti ru', 'www simmeurop com index php view articl id budget economiqu exploratoir pour lanne tmpl compon print layout default page option com content itemid', 'en wordpress com tag j pop', 'pinoyexchang com forum archiv index php html', 'classicflix com buster keaton short collect bluray p html', 'spplodz nazwa pl archiwum b php', 'vodacom co za', 'www bertilohlsson com de compon user login return ahr cdovl dy izxj awxvagxzc ulmnvb iawxkzxjnywxlcmll tsyxnzaxnjagutzg zzw vcnvuzgutzm ybt syw npwrl', 'uwsup edu alumni halloffam individu cfm', 'www besztercekk hu index php option com lr view stadium id itemid', 'suit tekora com philippecoupjambet', 'medicin mcgill ca radiolog home teachinghospit htm', 'gizmodo com one year first snowden leak what realli cha', 'jbmfilm com', 'www manganellipalac de willkommen bei html', 'en wikipedia org wiki southeast high school kansa citi c missouri', 'infopig com news html', 'uproxx com dimemag lebron instagram like want leav school model shouldnt', 'linkedin com pub tim stepanski', 'deafresourc info', 'web tv livecategori languag index changelanguag newshar searchautocomplet', 'juggl com gari petti', 'weather noaa gov weather tx cc us html', 'www sikobv eu nl compon mailto index html tmpl compon link ahr cdovl dy zawtvynyuzxuvbmwvi tcg uzw l nvbnrlbnqvyxj awnsz ylxzvb jwywdpbmetdgfilzi mc kzwxvlw ldi jyxj cmlkz utc lzdgvtlmh bww', 'mida medic com product electrocardiographecg cardio max seri cardio max cm c index html', 'rcarp beget tech', 'answer com topic northern pike', 'www kommunalbit de index php option com content view section id itemid', 'www galeri unterm maulbeerbaum de index php option com content view articl id itemid', 'fb com account login userid fbsbk com', 'uk ask com wiki lou holtz', 'adsoftheworld com profil profil countri egypt page', 'lifesk com skate jessica dub c bryce davison win pair event canadian figur skate championship html', 'flixster com actor tyron benskin', 'basil poledouri thelyricarch com lonesom dove', 'monettecn multipli com contact', 'collegehockeynew com news quinnipiac php', 'summitconnect com news archiv htm', 'yourlust com video frantic european blondi rock show masturb solo html', 'dailymot com video x ytl wcw superbrawl part sport', 'imdb com name nm', 'wn com de la rue', 'ehow com list solar panel manufactur compani html', 'www smo cn case asp id', 'prnewswir com news releas reportlink add top confectioneri compani html', 'sanfranciscobay sierraclub org', 'www nissad com nissad contact html', 'myspac com amyryan', 'www whitminsterinn co uk specialev calendar day', 'placesforafrica com exdeo direct php', 'hmckc maestroweb com', 'titaniumcorpor co za', 'poemhunt com poem ten leper', 'fanpop com spot jun matsumoto imag', 'facecouncil org', 'factmonst com ce peopl html', 'mylif com c', 'barnesandnobl com w hero live rudi rey', 'facebook com page sergio vitanza belgrav', 'jigsaw com scid peter blaiki xhtml', 'rt com vision ole buzina last respect assassin ole journalist buzina', 'grasslandhotel com vn index php compon djcatalog item servic', 'torcach net torrent bcd f fb f b ebe torrent titl kickass vmware workstat build final serial', 'ihavenet com nfl new york giant aim repeat nfl champion html', 'ca linkedin com pub daniel belang b b', 'merkato com afdb co financ ethiopian power line kenya', 'totallifechurchjax com index php option com content view articl id may teamwork episod catid teamwork', 'jdcarr com forsal htm', 'lyric com cant hold us lyric christina aguilera html', 'croonet com start g ndg mdqwmq', 'www dolcevino index php option com contact view contact id itemid', 'info e ba e b b e e b ae e ba ba e e b e b b e bb', 'soloautotun com nissan juke', 'danielfabri com ar mapa del sitio index html', 'totalwrestlinguk co uk wcw ppv php', 'armchairgm wikia com ncaa men divis basketbal tournament', 'facebook com thelatelateshowwithcraigferguson filter', 'basebal almanac com teamstat roster php mon', 'alibri com search book author pratt c fletcher', 'smartshoppingmontr com store php', 'elitedaili com entertain film uncl wear princess dress movi niec', 'dipiti com timelin ntsb fedex crash', 'facebook com page london ice dawg youth hockey club', 'bjgdhm com cn product asp id code', 'legendsofhockey net legendsofhockey jsp searchplay jsp player', 'kalamu com bol kevin mahogani e cjust imagin e', 'baltimorebeatdown com baltimor raven schedul', 'mylif com roygiff', 'linkedin com pub dir chri benoit', 'www suiteorchestra index php option com content view articl id flauti catid rokstori lang itemid', 'rendeck com index php en servic consult joint technolog select', 'youtub com watch v aexm lxewig', 'sydsarthau com', 'icomtec com westpac au login westpac au updat bill inform westpac au index html', 'afugow com', 'allpost co uk st tessier poster c htm', 'montrealselectlimo com', 'wiley com bw editor asp ref', 'theposselist com agenc indiana indianapoli', 'www qrscelltech com de compon content articl qr fuer leistungsorientiert menschen tmpl compon print page', 'montrealgazett com sport horror hartford silver line stori html', 'katu com traffic live', 'torcach net torrent c f ceb bae bd b b ea torrent titl kickass counter strike sourc', 'hollow art com base jessalyn gilsig hero', 'theglobeandmail com life health lesli robert work hard overcom poor famili health histori articl', 'burb com', 'www identcod cz cs laserov snimac stacionarni php', 'mylif com c', 'ca linkedin com pub dir angela ca vancouv c canada area', 'mylif com damonhenrysr', 'rottentomato com swim pool', 'aceshowbiz com celebr diann wiest', 'medium com human part laziest come stori ever heard f acdd sourc recommend', 'elyr net read p princ lyric wanna treat malici lyric html', 'info e af b e ba bf e b b e bb e c ba e af e b', 'checksur biz director da htm', 'peopl famouswhi com ramzi yousef', 'wn com raymond', 'trtsport cz', 'youtub com watch v ayrauv oexq', 'armchairgm wikia com san diego charger', 'imarti com', 'style org hc com css detail mysit siteconfig pro control css', 'ammmmazonm temp swtest ru', 'theglobeandmail com report busi career susan pinker cant realli assess skill perform articl', 'doom ocremix org', 'yidio com celebr ted lang', 'mondotim com world ca', 'montrealgazett com health cancer fight hit home alouett marc olivi brouillett stori html', 'wanderingcommut blogspot com philippin gay indi film realli html', 'www cannonvaleautopro com au tool html', 'qz com greek money alreadi stuf mattress may learn fate weekend', 'basebal almanac com yearli yr shtml', 'worthpoint com worthopedia roger silver plate tea pot sugar bowl', 'daylif com topic gabriel aubri', 'chnm gmu edu dimenovel romanc seri html', 'mafiaslugg blogspot com', 'forecast thehockeynew com hockeynew hockey player cgi', 'amazon com lone planet british columbia fanselow dp', 'flightsimhangar com fsblog p', 'comtedegrass org histori html', 'section com jp dumont bought nashvil predat', 'zimbio com marshon brook', 'linkedin com pub dir donald harvey', 'scnow com sport mar patriot reflect naia nation championship ar', 'www naylorantiqu com qx l hqo ewkbketxbu u oy gmkyfrgwnm llrdhlxcp ale b mij tja b hke dv xmv f fr mlqfp znd khgrrgbwjyv q gz yve hq agfj pt awujg vuy hqr yt n luu hep et dlku f qdchoz lzw php', 'diddydeshi com latest news latest news speech given octob main grade html', 'songlyr com doobi brother sweet maxin lyric', 'babal net download detail b b b aa ae b b', 'zozo jp shop americanragci price proper p ssi p ssm p ssd p sey p sem p sed dstk', 'pastehtml com view b gkw html', 'img buyimg com n g rbeqyvgv nmiaaaaaac mn ud aabz wdjttaaaley jpg q jpg', 'crisiscampmontr wordpress com', 'info e b e b e b e b b e bb e b e', 'www natureev dk compon mailto index html tmpl compon link ahr cdovl dy uyxr cmvldmvudc kay ha rpdml zxrlci odg', 'broadcast histori ca index html url www broadcast histori ca station tvlink html', 'johndouglasmindhunt com forum viewtop php', 'rachelperri wordpress com zach angi houston wed photographi', 'iraqwarhero org wightman htm', 'legaci com obituari herald obituari aspx n jeffrey klein pid', 'associatedcont com articl nfl predict buffalo bill html', 'compani format ireland com compani registr offic html', 'eagletribun com obituari x matilda siroi', 'funnybumblog com laugh gag accident shoot prank', 'en wikipedia org wiki aria disambigu', 'sladkiybuket net index php page shop product detail categori id flypag flypag lite pdf tpl product id option com virtuemart itemid', 'www sklep splawik pl index php option com content view articl id pokaz maver catid pokazi sprztu itemid', 'urbanspoon com r restaur locust street deli cafe walnut creek', 'facebook com peopl randal moss', 'www latablepaysann fr index php option com content view frontpag itemid', 'www lescoulissesdetang com galeriesmuse', 'www akmediaproduct ca index php option com content view articl id custom templat catid web develop itemid', 'kansa com histori kemper arena pictur html', 'en wikipedia org wiki kbwf', 'manta com c mt wwmh jason rhoad', 'amazon com pink motel vh phylli diller dp', 'allensarchiveofearlyoldcountrymus blogspot com fred van ep vess l ossman king html', 'wn com lewislavoi', 'packersnew greenbaypressgazett com articl pkr green bay packer quarterback aaron rodger zero record break season', 'en wikipedia org wiki work food tv show', 'kwqc com global stori asp', 'christianacar org', 'annviviskennel net index php option com content view articl id itemid', 'info onlin account net', 'jet nhl com club news htm id', 'gamefilmexpress com', 'wolfslatkin com attorney albert b wolf shtml', 'tv com show bewitch hous uncl arthur built', 'www mo priv ru index php option com content view articl id catid itemid', 'garybruc bandcamp com', 'facebook com peopl chester brown', 'movi msn com celebr celebr biographi dean stockwel', 'www dtcbv nl compon virtuemart index html page shop brows categori id', 'www real hous nl home news scene call defect html tmpl compon print page', 'ibnliv com news ram sampath compos rock shaadi html', 'washingtonexamin com news safrica top politician face briberi accus categori', 'fordfocu org', 'microencapsul readmyweath com', 'www ondrejov cz programi uzavrena skupina', 'salari money com samuel eto salari euro php', 'classicrockforum com forum f rip jim clench', 'youtub com watch v nxyvnglc', 'en wikipedia org wiki list hemophilia organ', 'last fm music arcad fire', 'evri com person charl l frink x ae da', 'engin truck com compon content articl anacostia hous html', 'onlineigri net game igri koli', 'en wikipedia org wiki st vincent merci children hospit', 'pennyfath com nameindex html', 'www vilagnomad com tabl payday loan direct lender php', 'r tune com ua index php option com virtuemart page shop brows categori id itemid', 'soccer com news u news l de rosario name ml mvp', 'lindaguarino com detail asp listingid w agentid searchtyp bycorp', 'facebook com page cfmb', 'jeopardylab com', 'wn com montreal star', 'linkedin com compani univers studio', 'mixi jp share pl u alfalfalfa com articl html k e afc e cfe aa aab b', 'facebook com wilburwatson', 'yougabsport com pt almost time san diego charger blog htm', 'svadebni com x txt', 'filecrop com ghostgirl tonya hurley loca por amor pdf html', 'channel com show vanessa show', 'www ksra ca form use verifi form html', 'camerch com canada citi qc quebec st barthelemi', 'videostravelguid com virgin island', 'portlandmercuri com portland liam finn luya event oid', 'uncyclopedia wikia com wiki new zealand', 'en gb facebook com clementin bailli', 'distractifi com post relat id c b c f c skip limit back', 'news eng news html', 'buckeyecablesystem com lineup lineup tol html', 'omaopioridg com', 'kakaku com kaden food processor rank pricedown div gpt ad k header text', 'forb com site kitconew plan nord extens rout key mine northern quebec stornoway ceo', 'www daytonaelectron co za index php option com content view articl id itemid', 'athlet scout com html', 'portland daveknow org categori sport timber', 'beyondrobson com music mix bag book list le georg leningrad papercut', 'tothriv net cgi bin mt mt search cgi blog id tag kaiser limit', 'en wikipedia org wiki mauric richard film', 'ussocc com news feder servic univers miami presid donna e shalala join team bring fifa world cup unit state aspx', 'washingtondc bcg com', 'www ijsbaanapeldoorn nl foto video html vsig vsig', 'spokeo com matthew dunkl', 'www easylivinggreenproduct com au shop html page shop product detail categori id flypag flypag tpl product id', 'sfhhz com channel html', 'maxalbum com index php artist loredana groza zaraza', 'www tvsk com au index php', 'interpark com product malldisplay method detail sc shopno sc dispno sc prdno bm bottom bm prd', 'templ edu classic epic index html', 'kotaku com behold singl player fight game', 'multilingualbook com foreignvid ital html', 'amazon com born loser dp b zw yx', 'www nabu gaildorf de index php option com search itemid', 'bloggn grainew ca scott equip agco kansa citi star html', 'amazon com baromet rise new canadian librari dp', 'areawidenew com stori html', 'uk ask com wiki hershey felder', 'mylust com video small cock guy still good vintag whore', 'cartoonnetwork com feedback index html', 'twinkacademi com index htm', 'www botoxina com index php view articl id b toxina inject b tmpl compon print layout default page option com content itemid lang en', 'freepag genealog rootsweb ancestri com rosdavi surnam b brubri htm', 'mortonsauto com', 'thecanadianencyclopedia com index cfm pgnm tce param arta', 'eveningtribun com featur x day sept remembr begin wednesday continu year anniversari terror attack', 'zshsq com news html index html html', 'encycl opentopia com term kpix tv', 'www sanpedrole com ar index php option com content view articl id itemid', 'semissourian com stori html', 'capit nhl com club page htm id', 'manta com c mmdjrmw wall aliv paper hang inc', 'richny com', 'bizofbasebal com index php option com content task view id itemid', 'www beriva lt index html di akcijo r iid', 'apoiojur com br index php', 'dienlanhvn com index php lien h html', 'cincinnati red mlb com stat histor individu stat player jsp c id cin playerid print true hs true', 'en wikipedia org wiki dean marshal', 'sfgate com sport warrior', 'www nephotographi com au galleri index php registri', 'jcmt nl en sitemap', 'torcach net torrent f c bacb e ae f torrent titl kickass dum laga ke haisha p blu ray hindi x ac mafiak tv', 'www suiteorchestra index php option com content view articl id pianofort e basso catid rokstori lang itemid', 'arashixdream com x mp arashi hidden track html', 'www tochnogopvakanti nl reizen nederland nederland kort tot week html', 'tremblay alvergn com', 'goatlock org oldlog oldlogc htm', 'xo fhvm lcvzi q download', 'www food nrw de index php forum forum nachhaltigkeit der ernaehrungsindustri', 'telusplanet net public dgarneau french htm', 'en wikipedia org wiki jim macpherson', 'maa org featur mathinindustri html', 'docstoc com doc council foreign relat cfr membership list', 'nihahaw beget tech', 'www versverwerktegroenten nl gezondheid oorzaken lage consumpti html page gezondheid foorzaken lage consumpti', 'site googl com woodplan com www', 'answer yahoo com question index qid aaip zb', 'theonion com', 'www hjlaw biz index php option com user view remind', 'www koenigsbach biergarten de cmx index php option com mailto tmpl compon link b cded f b e c', 'babal net photo aa', 'www windwolk de index php option com mailto tmpl compon link ahr cdovl dy aw kd sa uuzguvaw kzxgucghwp wdglvbj jb fy udgvudcz awv pwfydgljbgumawq mjpkb haw td luzhdvbgtljmnhdglkptm ymxvzyzjdgvtawq ng', 'docstoc com doc ford f seri', 'movi blogspot com watch game hindi movi onlin html', 'navweap com index reunion reunion usn e htm', 'onlineradio com listen mix', 'mapsofworld com usa state california california counti map html', 'www prefina notizi notizi generali unifidi garanzia sugli investimenti materiali immateriali e formazion di scort html tmpl compon print layout default page', 'video ca msn com watch video dog kill quebec babi etkt', 'torrentdn com bb php bo tabl torrent util wr id k ed f ac ed ec b page', 'youtub com watch v tzoozpzeqwk', 'waterviewdistilleri com', 'career state gov', 'elyr net read audry session lyric relentless lyric html', 'onestophelp state mi us wiki limit liabil partnership', 'thenextweb com insid notabl young compani startup demo extravaganza gtm start', 'www wxlotteri com news html', 'insidemnsocc com q andrew nestor owner presid ceo fc tampa bay rowdi soccer', 'www centercamp com br index php option com ckform task captcha sid c ce bffcf ba da fd c', 'amazon com vaniti fair ebook dp b jqugvi', 'trulia com school ny tarrytown e f intern academi', 'metalodyssey wordpress com', 'www enventureonlin com servic enterpris data manag consult servic html', 'infopleas com ipa html', 'tcm com tcmdb titl glamour girl', 'facebook com demerson', 'winkerdecoracion com index php page shop brows categori id option com virtuemart itemid', 'www alorenademalaga com index php denominacion de origen objetivo', 'gomarquett com', 'ychart com indic einx', 'iamachild wordpress com freder henri schopin french', 'imdb com name nm', 'tallen cutlerhom com', 'www fjpengfei com picshow asp id mnid classnam banner', 'prodenk sanierung de', 'answer com topic robert franci', 'www wu com cl tpl five star ver css five star css v ver', 'dipiti com gordonp japanes scienc fiction fantasi horror film', 'genforum genealog com cochran', 'lost translat com', 'www djemanshi md photo categori html', 'www hhp fi index php option com rsgalleri page slideshow gid', 'tampabay com news publicsafeti crime clearwat polic man drop month old cri', 'rightsideva blogspot com hockey stick prof michael mann html', 'applicationforschengenvisa com index php', 'dictionari sensag com sandro en en', 'bartlebi com html', 'www fitnessequipmentworldok com exercis bike page shop product detail flypag flypag tpl categori id product id', 'altpress com featur entri exclus stream blaqk audio afterdark', 'smarticullti com', 'fangraph com blog index php walli pip jason heyward', 'thedublinguid com', 'sagedata com compani client html', 'djsipk nl foto album sint nykstermerk detail img html tmpl compon', 'associatedcont com articl largest citi north dakota html', 'fcfighter store yahoo net superbrawl html', 'faq ign com object html', 'www bishopstr com violin bow index html', 'evri com organ kcwe x c', 'synaptixcommun com index php fshowcas fsimpl clear educ market fprint html', 'music yahoo com econochrist', 'checkstorenow ml', 'topp blogspot com ron theobald html', 'diego fc com', 'canadastop com montreal', 'aklgammabeta com', 'beaconforchang com municipalteam html', 'movi ca actor first paul', 'thenextweb com uber introduc paytm digit wallet payment india respons new e commerc rule', 'mixedmartialart com mma cfm go blog detail gid', 'healthgrad com group directori minnesota mn le center le sueur counti mental health sv b b', 'mic com articl biggest lie told colleg graduat speech', 'catalog ccclib org', 'blog sfgate com inoakland cyclist report miss oaklandberkeley hill', 'cityunionmiss org partner fiorella jack stack barbecu', 'brookislandrecord com', 'peopl famouswhi com peter mitchel', 'youtub com watch v wecnssa', 'abebook com book search titl five rose cook book', 'articl sfgate com opinion chauncey bailey project bakeri handyman antoin mackey', 'kalispellchristiancent org team bishop html', 'utahut cstv com sport w gym mtt damianova nansi html', 'la findacas com research wfrmdocview aspx xq fac sac la la htm qx', 'beijingairlineticket com', 'uncyclopedia wikia com wiki gill ducepp', 'idservicetelsmsmmssfr webhostapp com', 'whosdatedwho com section celebr first name jeff', 'www ghostwrit de rueckruf', 'dibussi com unpack chines compani land grab cameroon html', 'missouriwrestl com news php recordid', 'amazon com cherri fall terror brittani murphi dp b pxl', 'hollywoodlif com new york ranger beat washington capit overtim game fan reaction', 'worldtimezon net time wtzstandard php listsw namerica sorttb countryid', 'bursakombiservisi web tr', 'blueslyr tripod com artistswithsong jimmi reed htm', 'en wikipedia org wiki categori counti seat pennsylvania', 'ca local yahoo com result stx bibliothequ csz st bruno de montarvil c qc', 'www lappirami hu wordpress wp content theme twentyeleven inc imag index htm', 'en wikipedia org wiki honor c mercier', 'starpacintl com', 'mp raid com music justin mcrobert html', 'info e b bc e bf e b ad e b e ba b e ba b e b e b b e bb', 'agrimonia info', 'big game hunt usa com', 'californiazon net login asp', 'en wikipedia org wiki marcu moor', 'maritimeupd com index php option com content amp task view amp id amp itemid', 'huffingtonpost com big ten athlet n html', 'maryvilleac web discountasp net subpag asp id parentid', 'papillon vole fr index php page shop product detail flypag flypag tpl product id categori id option com virtuemart itemid', 'www hippapi org test itun login webobject itunesconnect html', 'legaci com guestbook washingtonpost guestbook aspx n michael anthoni jordan pid page', 'inobediencetohim com au', 'www ijsbaanapeldoorn nl foto video html vsig vsig', 'habbomoedasgeraa blogspot com', 'chuckhawk com colt htm', 'allaboutjazz com php musician php id', 'lincolnchristian edu seminari', 'yangamat com p', 'mymindsey com', 'blog syracus com parish index html', 'whoabc com harrison ford', 'centuri town countri com properti mi west bloomfield paul loui ln', 'igea net', 'evri com person graem dunstan x f', 'baseballjump com basebal memorabilia kansa citi royal', 'thenextweb com insid foursquar leverag geoloc technolog locat cloud place', 'interced net topic ciccon', 'ak imgfarm com imag nocach vicinio instal videodownloadconvertauto exe', 'ussocc com news u mnt u u mnt fall mexico lo angel memori coliseum aspx', 'www com cl modul system method livetop arg livehal', 'jbworld jb st loui mo us', 'twitter com home statu e c e e b ef bc e e e e b e b e f fero video net ft fmaswlaomtjkllbgk e e e ad e af e e e e e b e b e ad e e f ero douga agesag', 'gothiclolitawig deviantart com', 'haberl com galatasaray mersin idman yurdu nu yendi haberi yorumlari', 'archiv org stream morenosdictionar morerich morenosdictionar morerich djvu txt', 'cheezburg com funni fail photo portrait bobbi jindal polit ref rightarrow siteid', 'bergschneiderfamili com bergschneid famili newslett news html', 'www easycaptcha com f f c c fe fefa e captcha width height', 'linkedin com pub dir mike gibbon', 'www aquamarinadivingtenerif com en', 'youtub com watch v vt va v hyo', 'soa sy con com node', 'evri com person jay plager x ac', 'tobogo net cdsb board php board issu bm view categori auth page search keyword recom', 'heritageapp cyr gov sk ca public', 'mastersoftrivia com blog june th histori happen today', 'eduplac com kid mhm', 'ru net cv ua wp content config file php', 'www hmaca com winnipeg account blog tag winnipeg accpac certifi consult index html', 'carto net neumann photograph kerzer papiliorama white tree nymph weiss baumnymph idea leucono html', 'bigbandpdf com', 'gazom com vodonagrev vodonagrev nak type titan rfb f', 'cm skidmor edu odsp program art flute faculti cfm', 'lima ny org', 'www dynamicstrategi com au dynam strategi', 'en wikipedia org wiki lartigu', 'icicibank com person bank insur gener insur health insur index page', 'topix com ca cabano qc', 'lyric com planet smasher lyric janic lyric html', 'www connexion gr el news neo site amesoti', 'www duplexindustri com au salla max html', 'conservapedia com republican parti', 'icehockey wikia com wiki jess scanzano', 'iagenweb org madison marriag record mr marston maxon html', 'punkki wordpress com spiritu ladi gentlemen float space', 'wilsonstatebank net', 'weddingwir com wed song garter remov music wanna lover b html', 'facebook com skyebluec', 'motthegioi vn tin tuc thoi quen nhieu dua ca cua nguoi viet khien benh ung thu tang cao html', 'isthisyour name directori fullnam pelton htm', 'wikitre com genealog de chauvigni famili tree', 'new ca music yahoo com josh', 'ehow com video invest privat held compani html', 'mueblesjulianjimenez es index php page shop brows categori id option com virtuemart itemid', 'youtub com watch v mgmz znajpg', 'www autoursdurock info index php option com content view articl id itemid', 'sertoma gl region org', 'vale healthcar com hand clinic', 'proplast co nz', 'sixgoodi com', 'imdb com name nm', 'quot famou com person lionel tiger quot html', 'torcach net torrent b f df e ebd f eaff b torrent titl kickass sword vengeanc p brrip x yifi', 'gouldsminorhockey com news php', 'hotnewsofday com colleg footbal hall fame html', 'thefreelibrari com hockey compani hold inc announc acquisit lifestyl', 'mylif com c', 'cableslovenia com', 'hotladybodi com make brazilian playboy cleo pire html', 'sideshowtoy com page id sku', 'hobbylinc com htm bac bac htm sourc froogl', 'www gypsyspirit eu cz vyhlaovatel partnei', 'account secur centr webhostapp com', 'batutik com ua produkcziya batutinaduvni batut html', 'info e ba e b b e e b ae e ba ba e e b e b b e bb', 'mind world com', 'pipl com directori name lilli kathleen', 'asunderpress com', 'dribbbl com shot sperant mobil sidebar concept attach', 'appleid appl co uk cgi bin webobject myappleid woa verifi eu id net identifi custom gqifbqj arzsiqo dgwscydxgfcmxv vvmrocb ydxsvil ezxq honf cy nmnk axoc tbgk hh hmrd gbsw', 'www chromashop fr index php actualit start', 'ababmx com index php page default halloffam year', 'scr paypal co uk', 'www geothermalanywher com news geotherm anywher among top cleantech vc opportun europ select startup html lang en', 'www itali itf com index php option com phocagalleri view detail catid home page collect id apertura stagion itf italia tmpl compon itemid', 'haishundl com qinpengqipaiguanfangxiazai html', 'glassdoor com job grassroot campaign inc job e htm', 'amazon com song debussi dp b fkri', 'torcach net torrent b aac ae bdf cd ede f e e torrent titl kickass game throne e p hdtv x sec', 'www mtb malici harzburg de index php bilder', 'info e e ab b e bd e b bc e bf e aa e b b e bb', 'yelp ca biz jean jacqu campeau gatineau', 'googl com hostednew afp articl aleqm ik qogi kcq kz ps vbbcemqg docid cng c f f b c ed b', 'www centerimovei com br servico locacao de imovei imprimir html', 'deadspin com erin andrew reebok endors deal journalist uneth', 'en wikipedia org wiki pierr dupuy', 'forum lazygirl info html', 'wn com american footbal leagu', 'review creditkarma com credit union communityamerica credit union', 'r blogspot com anai pouliot diva anthoni maul html', 'songlyr com arrog worm happi happi birthday song lyric', 'northjersey com news report recommend scrap urban enterpris zone html', 'flixster com video', 'en wikipedia org wiki francin lalond', 'shgresourc com ca timelin', 'www masrealest index php option com mailto tmpl compon link ahr cdovl dy tyxnyzwfszxn yxrllml l luzgv lnbocd vchrpb tx nvbnrlbnqmdmlldz hcnrpi xljmlkptclm fjb zdwxlbnphjkl zw pzd jmxhbmc zw lang en', 'lemonamiga com game id', 'mylif com laurakjohnson', 'kiss net type kiss php', 'ca linkedin com pub shannon gaskel', 'jackianderson com', 'tvrage com person id han conri', 'www sementimenzo dove siamo html', 'www bkr laserscan de index php option com mailto tmpl compon link ahr cdovl dy ia itbgfzzxjzi fubmluzi kz pbmrlec waha fb b aw upwnvbv jb zw jnzpzxc yxj awnszszpzd odpzdg lcmthbnrlbm vzgvsbc mdwvylxjvym zxjzaw bgf aw ujmnhdglkptqzomluagfsdgumsxrlbwlkpti', 'alkir org gen ohio f html', 'wendylynncustomhom com', 'biomedexpert com profil bme fran c oi dabi', 'www sezioneanatreviso index php option com mailto tmpl compon link cc e afa b bfe eddc e b c', 'toctok com mx', 'www bruynzeelmultipanel index php option com content view articl id itemid', 'afcubridg org', 'archiv cbc ca societi religion spiritu clip', 'www honarcinema com index php option com content view frontpag itemid limitstart', 'bonjourlafr com franc histori bourbon dynasti htm', 'everyguitarist com billi joe armstrong htm', 'myeasyauct com', 'psycholog wikia com wiki ian stevenson', 'familysearch org learn wiki en lenawe counti c michigan', 'sciway net statist scsa tr tr html', 'twaflightattend com liftoffhtml historytimelin html', 'corporationwiki com florida miami shakir saafir p aspx', 'nil fabisch de', 'deiradio radio dealer com aboutu cfm c e e af c b c e e cat id', 'nguyentandung org ha noi phat hien nhanh xe di muon la xe trom cap html', 'www mbdalmezun com search htm', 'britannica com ebcheck topic saul bellow', 'jennieo com', 'r tune com ua index php option com virtuemart page shop brows categori id itemid', 'songlyr com flipsyd laserbeam lyric', 'www prhelp com au news interest stuff news prhelp msp', 'vertor com download la donna della mia vita', 'reunion com richardbolen', 'en wikipedia org wiki ross macdonald', 'imdb com name nm bio', 'famouspoetsandpoem com poet maya angel biographi', 'cleveland com art index ssf commun theater northea html', 'www naylorantiqu com mrr uhz twgeshrcggsdamswutjtugyuivxfqoejwha', 'en wikipedia org wiki list counti california', 'docstoc com doc histori stoke citi fc', 'www ahminspect ca realestateag phpmyadmin kk koehuy vvz wk lulok', 'wsn com footbal norwegian divis avd fixtur', 'tobogo net cdsb board php board storymus bm view categori auth page search keyword recom', 'imdb com keyword erot thriller', 'starpuls com music shakira discographi album p r', 'sportsillustr cnn com vault articl magazin mag index htm', 'mailtribun com app pbc dll articl aid news', 'info e e e c ba e e f b e b e b b e bb', 'aksniwka com klub stadion', 'read glass bttradespac com galleri design eyewear galleri item mediaid efda c ee bac', 'babepedia com babe lanni barbi', 'spokeo com brian watt', 'www unitr org index php option com wrapper view wrapper itemid el mcal month el mcal year', 'whatifsport com nfl l profil team asp hfid', 'whatisjameswear com georg smith showroom', 'olx co id jasa lowongan kerja jasa jasa lainnya jasa lowongan kerja jasa jasa lainnya', 'freebas com view en commerc bancshar', 'filmsandtv com movi danielpilon php', 'www smk ru katalogtovara html sobi task sobi detail catid sobi id', 'videosurf com ellen degener show', 'pipl com directori peopl gari sabaugh', 'discog com pixi tromp le mond master', 'www czdesign cz kalenda search form html', 'papillon vole fr index php page shop product detail flypag flypag tpl product id categori id option com virtuemart itemid', 'lasqc com index php option com content view articl id itemid', 'stacey hannant co uk', 'americansoccernew net op ed busi model american specif ml soccer news', 'practicaley net consult commun consult html', 'beakey familytreeguid com descend php personid tree beakey', 'sanfrancisco cbslocal com livermor soldier die rabi', 'wordiq com definit public art', 'fanbas com syracus orang men basketbal', 'dc com od museum p naturalhistori htm', 'freebas com view en cincinnati bengal', 'yellowpag ca bu quebec laval sport autorout inc html', 'allrecip com video cheesi broccoli puff sriracha sauc detail aspx prop vh brand', 'pastehtml com view bfzi ah html', 'www plexiprint net plexi index php option com content view articl id itemid', 'info e ad e b e bf ab e b e b e b b e bb', 'blockbust com brows catalog persondetail', 'miktek biz xide webscr prim php bwlrdgvrci iaxo uhsdsusu kujhnn oplkj aop mtm mdkxodc oa', 'web sau edu athlet athlet footbal news gameday stuff morningsid welcom gpac home page great plain athlet confer htm', 'forum fullsextub com vintag video movi br noth hide tianna roxann blaze html', 'linkedin com pub jan roel', 'youtub com watch v ecgsm pnqhq', 'bloomberg com news dust bowl texa mean cotton bottom rick perri pray rain html', 'www slavia sk home', 'innerearbrigad com', 'brokenbel com']\n"
          ]
        }
      ]
    },
    {
      "cell_type": "markdown",
      "source": [
        "***Creating the matrix of features*** and ***Dependent Variables***"
      ],
      "metadata": {
        "id": "ekfNPxj5cZi7"
      }
    },
    {
      "cell_type": "code",
      "source": [
        "from sklearn.feature_extraction.text import CountVectorizer\n",
        "cv = CountVectorizer()\n",
        "x = cv.fit_transform(corpus).toarray()"
      ],
      "metadata": {
        "id": "CLz1jIGHcgF-"
      },
      "execution_count": null,
      "outputs": []
    },
    {
      "cell_type": "code",
      "source": [
        "print(\"matrix of features\\n\",x)"
      ],
      "metadata": {
        "id": "-xK9YtuJfVUv",
        "colab": {
          "base_uri": "https://localhost:8080/"
        },
        "outputId": "5e89f684-9981-473a-f3fa-ca8b19937fac"
      },
      "execution_count": null,
      "outputs": [
        {
          "output_type": "stream",
          "name": "stdout",
          "text": [
            "matrix of features\n",
            " [[0 0 0 ... 0 0 0]\n",
            " [0 0 0 ... 0 0 0]\n",
            " [0 0 0 ... 0 0 0]\n",
            " ...\n",
            " [0 0 0 ... 0 0 0]\n",
            " [0 0 0 ... 0 0 0]\n",
            " [0 0 0 ... 0 0 0]]\n"
          ]
        }
      ]
    },
    {
      "cell_type": "markdown",
      "source": [
        "# Encoding Categorical Data"
      ],
      "metadata": {
        "id": "kwNF2dsofaNn"
      }
    },
    {
      "cell_type": "markdown",
      "source": [
        "***Encoding Dependent Variables***"
      ],
      "metadata": {
        "id": "jwJU9xCsuG6O"
      }
    },
    {
      "cell_type": "code",
      "source": [
        "from sklearn.preprocessing import LabelEncoder\n",
        "le = LabelEncoder()\n",
        "y = dataframe.iloc[:, -1].values\n",
        "y = le.fit_transform(y)"
      ],
      "metadata": {
        "id": "YcJaqEJWuN8V"
      },
      "execution_count": null,
      "outputs": []
    },
    {
      "cell_type": "code",
      "source": [
        "print(\"Features\\n\", y)\n",
        "# 1 - Malicious\n",
        "# 0 - Benign"
      ],
      "metadata": {
        "colab": {
          "base_uri": "https://localhost:8080/"
        },
        "id": "I4U1lSBaunSs",
        "outputId": "df29977b-639c-469d-efc2-dc5d8efe3a9c"
      },
      "execution_count": null,
      "outputs": [
        {
          "output_type": "stream",
          "name": "stdout",
          "text": [
            "Features\n",
            " [1 0 0 1 1 0 0 0 1 0 0 1 0 1 1 1 0 0 0 1 0 1 0 0 0 0 0 0 1 0 0 0 0 0 0 1 0\n",
            " 0 1 1 1 0 0 0 0 0 1 0 0 0 1 1 0 0 0 0 0 0 0 0 1 1 0 0 0 1 1 0 1 0 0 0 1 0\n",
            " 0 0 0 0 0 0 1 0 0 0 0 0 1 1 0 0 1 0 0 0 1 0 1 0 0 1 0 1 0 0 1 1 1 0 0 0 0\n",
            " 1 0 0 0 1 0 1 0 0 0 0 0 0 1 0 1 0 0 0 0 0 1 0 0 0 0 1 0 1 0 0 0 0 0 0 1 1\n",
            " 0 0 0 0 0 0 0 0 1 0 1 0 0 0 1 1 0 0 1 1 1 1 0 0 0 0 0 0 0 0 0 0 0 0 0 0 0\n",
            " 0 0 1 0 1 0 0 0 1 0 0 0 0 1 1 0 0 0 0 0 0 0 0 0 0 0 0 1 1 0 1 0 0 0 0 0 0\n",
            " 0 0 0 0 0 0 0 0 0 0 1 0 1 0 0 0 1 0 1 0 0 1 0 0 1 0 0 0 0 1 0 1 0 1 1 0 0\n",
            " 0 1 0 0 1 0 0 0 0 0 0 0 0 0 0 0 1 0 0 0 1 0 0 1 0 1 1 1 1 0 1 0 0 0 0 0 0\n",
            " 0 1 1 0 0 1 1 0 0 0 1 1 0 0 0 0 0 0 0 0 0 0 0 0 0 0 0 0 0 1 0 0 0 1 0 1 0\n",
            " 0 0 0 1 1 0 1 0 0 0 1 0 0 0 0 0 1 0 0 0 1 1 1 0 0 0 0 0 0 0 1 0 1 0 0 0 1\n",
            " 0 1 0 0 0 0 0 0 0 1 1 0 0 0 1 0 1 0 1 0 0 0 0 1 0 0 0 0 0 0 0 0 1 1 1 0 1\n",
            " 1 1 0 0 0 0 0 0 0 0 0 0 0 0 0 1 0 0 1 0 1 0 0 1 0 0 0 0 0 0 0 0 0 1 0 0 0\n",
            " 0 1 0 0 0 1 1 0 1 0 0 0 0 0 0 0 0 0 1 0 0 0 0 0 1 1 0 1 1 1 0 0 0 0 1 0 0\n",
            " 0 0 0 0 1 0 0 0 0 0 0 0 1 0 0 0 1 0 0 0 1 1 0 0 0 0 0 0 1 0 0 0 0 0 0 0 0\n",
            " 0 0 0 0 0 0 1 1 0 0 0 1 1 0 1 1 0 0 0 0 0 0 0 0 0 0 1 1 0 0 1 1 1 0 0 0 0\n",
            " 0 0 0 0 0 0 1 1 0 0 0 0 1 0 0 0 1 1 0 0 0 1 1 0 0 0 0 0 0 1 1 0 0 1 1 0 0\n",
            " 0 0 0 0 0 0 0 1 0 0 1 0 0 0 0 0 0 0 0 0 0 0 1 0 0 0 0 0 0 0 1 0 1 1 0 1 0\n",
            " 0 0 0 0 1 0 0 0 0 0 0 0 1 0 0 0 0 1 0 1 0 0 0 0 0 1 1 1 0 0 0 1 1 0 1 0 1\n",
            " 0 0 1 1 0 0 0 0 1 1 0 0 0 1 1 0 1 0 0 0 0 0 1 0 0 0 1 0 0 0 0 1 0 1 0 0 0\n",
            " 1 0 0 0 1 1 0 0 0 0 0 1 1 0 1 0 0 0 1 1 0 0 1 0 0 1 0 1 0 0 0 1 0 0 0 1 0\n",
            " 1 0 1 0 1 0 0 0 0 0 0 0 0 0 0 0 0 0 0 0 0 0 0 0 0 0 1 0 1 0 0 0 0 0 1 0 0\n",
            " 0 1 0 1 0 1 0 0 0 0 0 0 0 1 1 0 1 1 1 0 0 0 0 0 0 0 0 0 0 0 0 0 1 0 1 0 0\n",
            " 0 0 0 0 0 1 0 1 0 0 0 0 0 0 0 1 1 0 0 1 0 0 1 0 0 0 0 1 1 0 0 0 0 0 0 0 0\n",
            " 0 0 0 0 1 0 1 0 0 1 1 0 0 0 0 0 0 0 0 0 0 0 1 1 1 1 0 0 0 0 1 1 0 1 1 1 1\n",
            " 0 0 0 1 1 0 0 1 0 0 0 0 0 0 0 0 0 0 0 1 0 0 0 0 0 0 1 1 0 0 0 1 1 1 0 0 1\n",
            " 0 0 0 0 0 0 0 0 0 0 0 1 0 0 1 0 1 0 0 0 0 0 0 1 0 0 1 0 0 0 0 0 0 1 1 0 0\n",
            " 0 1 0 0 0 0 0 1 0 0 0 1 1 1 0 0 1 0 0 0 0 0 0 0 0 1 1 1 0 1 0 0 0 0 0 1 0\n",
            " 0]\n"
          ]
        }
      ]
    },
    {
      "cell_type": "markdown",
      "source": [
        "# Splitting of Data for Training and Testing Purpose"
      ],
      "metadata": {
        "id": "rkYhJcYTyR5w"
      }
    },
    {
      "cell_type": "code",
      "source": [
        "from sklearn.model_selection import train_test_split\n",
        "x_train, x_test, y_train, y_test = train_test_split(x, y, test_size = 0.2, random_state = 42)"
      ],
      "metadata": {
        "id": "sI9MrdviybjG"
      },
      "execution_count": null,
      "outputs": []
    },
    {
      "cell_type": "markdown",
      "source": [
        "# Training the Model"
      ],
      "metadata": {
        "id": "ULUwbKsjUO8U"
      }
    },
    {
      "cell_type": "markdown",
      "source": [
        "## ***1. Logistic Regression***"
      ],
      "metadata": {
        "id": "NBzKc1y_bOrW"
      }
    },
    {
      "cell_type": "code",
      "source": [
        "from sklearn.linear_model import LogisticRegression\n",
        "classifier = LogisticRegression()\n",
        "classifier.fit(x_train, y_train)"
      ],
      "metadata": {
        "colab": {
          "base_uri": "https://localhost:8080/"
        },
        "id": "ygrBFqh8UURm",
        "outputId": "18dc6626-4ed8-4827-8fda-1297258cbe73"
      },
      "execution_count": null,
      "outputs": [
        {
          "output_type": "execute_result",
          "data": {
            "text/plain": [
              "LogisticRegression()"
            ]
          },
          "metadata": {},
          "execution_count": 8
        }
      ]
    },
    {
      "cell_type": "markdown",
      "source": [
        "# Creating Confusion Matrix and finding the Accuracy"
      ],
      "metadata": {
        "id": "M5FtLAWyU9Kn"
      }
    },
    {
      "cell_type": "code",
      "source": [
        "y_pred = classifier.predict(x_test)"
      ],
      "metadata": {
        "id": "nZ7AAK49WrZm"
      },
      "execution_count": null,
      "outputs": []
    },
    {
      "cell_type": "code",
      "source": [
        "from sklearn.metrics import confusion_matrix, accuracy_score, f1_score\n",
        "cm = confusion_matrix(y_test, y_pred)\n",
        "accuracy = accuracy_score(y_test, y_pred)"
      ],
      "metadata": {
        "id": "L1f0OHLnVesN"
      },
      "execution_count": null,
      "outputs": []
    },
    {
      "cell_type": "code",
      "source": [
        "print(\"Confusion Matrix\\n\", cm)\n",
        "print(\"Accuracy \", accuracy)\n",
        "print(\"F1- score \", f1_score(y_test, y_pred))"
      ],
      "metadata": {
        "colab": {
          "base_uri": "https://localhost:8080/"
        },
        "id": "ZGnwTX03XCFD",
        "outputId": "0a8dbffd-3917-4763-b48a-9f7653a172ba"
      },
      "execution_count": null,
      "outputs": [
        {
          "output_type": "stream",
          "name": "stdout",
          "text": [
            "Confusion Matrix\n",
            " [[139   2]\n",
            " [ 19  40]]\n",
            "Accuracy  0.895\n",
            "F1- score  0.7920792079207921\n"
          ]
        }
      ]
    },
    {
      "cell_type": "markdown",
      "source": [
        "# Testing Against Custom Inputs"
      ],
      "metadata": {
        "id": "lNaVJBQnaUWC"
      }
    },
    {
      "cell_type": "code",
      "source": [
        "new = [\"google.com/search=jcharistech\",\n",
        "       \"google.com/search=faizanahmad\",\n",
        "       \"pakistanifacebookforever.com/getpassword.php/\",\n",
        "       \"www.radsport-voggel.de/wp-admin/includes/log.exe\",\n",
        "       \"ahrenhei.without-transfer.ru/nethost.exe \",\n",
        "       \"www.itidea.it/centroesteticosothys/img/_notes/gum.exe\"]"
      ],
      "metadata": {
        "id": "8wk3AqyGaYdY"
      },
      "execution_count": null,
      "outputs": []
    },
    {
      "cell_type": "code",
      "source": [
        "new = cv.transform(new).toarray()\n",
        "custom_predict = classifier.predict(new)\n",
        "print(custom_predict)"
      ],
      "metadata": {
        "colab": {
          "base_uri": "https://localhost:8080/"
        },
        "id": "Ejeq6atTaqz4",
        "outputId": "2d5c9ba1-080d-49f4-e811-deac1c5edf69"
      },
      "execution_count": null,
      "outputs": [
        {
          "output_type": "stream",
          "name": "stdout",
          "text": [
            "[0 0 0 1 1 1]\n"
          ]
        }
      ]
    }
  ],
  "metadata": {
    "colab": {
      "collapsed_sections": [],
      "name": "Copy of Welcome To Colaboratory",
      "provenance": []
    },
    "kernelspec": {
      "display_name": "Python 3",
      "name": "python3"
    }
  },
  "nbformat": 4,
  "nbformat_minor": 0
}